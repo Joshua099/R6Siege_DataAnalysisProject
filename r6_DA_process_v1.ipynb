{
 "cells": [
  {
   "cell_type": "markdown",
   "metadata": {},
   "source": [
    "# Web Scrape and SQL upload"
   ]
  },
  {
   "cell_type": "code",
   "execution_count": 1,
   "metadata": {},
   "outputs": [],
   "source": [
    "# Import Necessary libraries\n",
    "import r6tab_API_functions as r6\n",
    "import pandas as pd\n",
    "import sqlalchemy\n",
    "import statsmodels.formula.api as sm\n",
    "import seaborn as sns\n",
    "import matplotlib.pyplot as plt"
   ]
  },
  {
   "cell_type": "code",
   "execution_count": 13,
   "metadata": {},
   "outputs": [
    {
     "name": "stdout",
     "output_type": "stream",
     "text": [
      "Here's a preview: \n",
      "position: 1\n",
      "p_id: f9eeea28-4c13-48df-b96a-49c726bf546c\n",
      "p_name: One.TT\n",
      "p_level: 158\n",
      "p_platform: uplay\n",
      "p_user: f9eeea28-4c13-48df-b96a-49c726bf546c\n",
      "p_currentmmr: 6539\n",
      "p_currentrank: 20\n",
      "p_skillrating: 10602\n",
      "p_NA_rank: 20\n",
      "p_EU_rank: 20\n",
      "p_AS_rank: 14\n",
      "kd: 251\n",
      "verified: 0\n",
      "p_headshotacc: 64590000\n",
      "p_NA_currentmmr: 6539\n"
     ]
    }
   ],
   "source": [
    "# Scrape leaderboard info from function calls using r6tab API\n",
    "NA_leaderboard_info = r6.get_leaderboard_info('p_NA_currentmmr')\n",
    "EU_leaderboard_info = r6.get_leaderboard_info('p_EU_currentmmr')\n",
    "AS_leaderboard_info = r6.get_leaderboard_info('p_AS_currentmmr')\n",
    "\n",
    "# Let's take a look at the top player's info in NA\n",
    "if NA_leaderboard_info is not None:\n",
    "    print(\"Here's a preview: \")\n",
    "    preview = NA_leaderboard_info[0]\n",
    "    for k, v in preview.items():\n",
    "        print(\"{0}: {1}\".format(k, v))"
   ]
  },
  {
   "cell_type": "code",
   "execution_count": 14,
   "metadata": {},
   "outputs": [
    {
     "name": "stdout",
     "output_type": "stream",
     "text": [
      "    kd p_AS_rank p_EU_rank p_NA_currentmmr p_NA_rank p_currentmmr\n",
      "0  251        14        20            6539        20         6539\n",
      "1  166        20         0            6486        20         6486\n",
      "2  187        20        20            6419        20         6419\n",
      "3  157         0         0            6036        20         6036\n",
      "4  262         0         0            6025        20         6025\n"
     ]
    }
   ],
   "source": [
    "# Store leader boards into pandas data frames to easily upload to mysql server\n",
    "\n",
    "NA = pd.DataFrame(NA_leaderboard_info)\n",
    "EU = pd.DataFrame(EU_leaderboard_info)\n",
    "AS = pd.DataFrame(AS_leaderboard_info)\n",
    "\n",
    "# Let's see how one data frame looks like (first 6 columns, the dataframe is too wide for JPnotebooks)\n",
    "print(NA.iloc[:5, :6])"
   ]
  },
  {
   "cell_type": "markdown",
   "metadata": {},
   "source": [
    "*Now I want to store my data into a SQL database. This will make data manipulation a bit easier later when working with all three leader boards.*"
   ]
  },
  {
   "cell_type": "code",
   "execution_count": 15,
   "metadata": {},
   "outputs": [],
   "source": [
    "# Log in information for mysql server\n",
    "user = 'root'\n",
    "passw = 'pw'\n",
    "host = 'localhost'\n",
    "database = 'r6_leaderboard_database'\n",
    "\n",
    "# Establish a connection to the mysql server\n",
    "engine_stmt = 'mysql+mysqlconnector://%s:%s@%s:3306/%s' % (user, passw, host, database)\n",
    "\n",
    "engine = sqlalchemy.create_engine(engine_stmt)"
   ]
  },
  {
   "cell_type": "code",
   "execution_count": 22,
   "metadata": {},
   "outputs": [
    {
     "name": "stdout",
     "output_type": "stream",
     "text": [
      "    kd p_AS_rank p_EU_currentmmr p_EU_rank p_NA_rank p_currentmmr\n",
      "0  175         0           10071        20         0        10071\n",
      "1  144         0            8089        20         0         8089\n",
      "2  185         0            7542        20         0         7542\n",
      "3  227        14            7134        20         0         7134\n",
      "4  179        18            6392        20         0         6392\n",
      "it WORKED.\n"
     ]
    }
   ],
   "source": [
    "# Work the magic\n",
    "\n",
    "NA.to_sql(name='na_leaderboard', con=engine,\n",
    "          if_exists='replace', index=False, chunksize=1000)\n",
    "EU.to_sql(name='eu_leaderboard', con=engine,\n",
    "          if_exists='replace', index=False, chunksize=1000)\n",
    "AS.to_sql(name='as_leaderboard', con=engine,\n",
    "          if_exists='replace', index=False, chunksize=1000)\n",
    "\n",
    "test_df = pd.read_sql(\"SELECT * FROM eu_leaderboard\", engine)\n",
    "\n",
    "print(test_df.iloc[:5, :6])\n",
    "\n",
    "print('it WORKED.')"
   ]
  },
  {
   "cell_type": "markdown",
   "metadata": {},
   "source": [
    "# Data Screening"
   ]
  },
  {
   "cell_type": "markdown",
   "metadata": {},
   "source": [
    "**We want to increase our sample size, so we'd want to combine all three leaderboards into one. This will be a functioning global leaderboard of the top 300 players.**\n",
    "\n",
    "## Issue #1\n",
    "*The different leader board tables contain the same amount of columns and data types. BUT they are in a different order.*\n",
    "\n",
    "*To use SQL UNION, they must be in the same order.*\n",
    "\n",
    "*Rearrange columns to be uniform across all tables before combining.*\n",
    "\n",
    "*Each region's leader board has a separately labeled p_REGION_currentmmr field. In the rainbow six database, this is actually a\n",
    "global mmr. Also, in each region's leaderboard:*\n",
    "\n",
    "- **p_REGION_currentmmr == p_currentmmr.**\n",
    "\n",
    "*So to solve this issue, delete each leader board table's p_REGION_currentmmr*"
   ]
  },
  {
   "cell_type": "code",
   "execution_count": 32,
   "metadata": {},
   "outputs": [
    {
     "name": "stdout",
     "output_type": "stream",
     "text": [
      "['p_EU_currentmmr', 'p_currentmmr']\n",
      "('10071', '10071')\n",
      "('8089', '8089')\n",
      "('7542', '7542')\n",
      "('7134', '7134')\n",
      "('6392', '6392')\n",
      "('6332', '6332')\n",
      "('6288', '6288')\n",
      "('6274', '6274')\n",
      "('6239', '6239')\n",
      "('6185', '6185')\n"
     ]
    }
   ],
   "source": [
    "# Let's check what's up with these two columns\n",
    "with engine.connect() as con:\n",
    "    try:\n",
    "        check_dup = con.execute('select p_EU_currentmmr, p_currentmmr from r6_leaderboard_database.eu_leaderboard LIMIT 10')\n",
    "        print(check_dup.keys())\n",
    "        \n",
    "        for row in check_dup:\n",
    "            print(row)\n",
    "    except:\n",
    "        print('Already deleted the problem column...')\n",
    "\n",
    "    con.close()\n"
   ]
  },
  {
   "cell_type": "code",
   "execution_count": 33,
   "metadata": {},
   "outputs": [
    {
     "name": "stdout",
     "output_type": "stream",
     "text": [
      "Already Deleted\n"
     ]
    }
   ],
   "source": [
    "# Delete the p_REGION_currentmmr columns from each table\n",
    "\n",
    "# Do a test run first..\n",
    "with engine.connect() as con:\n",
    "    try:\n",
    "        sql_delete_query = \"\"\"ALTER TABLE %s DROP COLUMN %s\"\"\"\n",
    "        con.execute(sql_delete_query % ('r6_leaderboard_database.na_test', 'p_NA_currentmmr'))\n",
    "        \n",
    "        print('delete done')\n",
    "    except:\n",
    "        print(\"Already Deleted\")\n",
    "        \n",
    "    con.close()\n",
    "\n"
   ]
  },
  {
   "cell_type": "code",
   "execution_count": 34,
   "metadata": {},
   "outputs": [
    {
     "name": "stdout",
     "output_type": "stream",
     "text": [
      "delete done\n"
     ]
    }
   ],
   "source": [
    "# Alright. Luckily, once we delete each p_REGION_mmr column from each table, the order and format of each table will be the same\n",
    "with engine.connect() as con:\n",
    "    try:\n",
    "        sql_delete_query = \"\"\"ALTER TABLE %s DROP COLUMN %s\"\"\"\n",
    "        con.execute(sql_delete_query % ('r6_leaderboard_database.na_leaderboard', 'p_NA_currentmmr'))\n",
    "        con.execute(sql_delete_query % ('r6_leaderboard_database.eu_leaderboard', 'p_EU_currentmmr'))\n",
    "        con.execute(sql_delete_query % ('r6_leaderboard_database.as_leaderboard', 'p_AS_currentmmr'))\n",
    "\n",
    "        print('delete done')\n",
    "    except:\n",
    "        print(\"Already Deleted\")\n",
    "\n",
    "    con.close()"
   ]
  },
  {
   "cell_type": "code",
   "execution_count": 35,
   "metadata": {},
   "outputs": [
    {
     "name": "stdout",
     "output_type": "stream",
     "text": [
      "Good to go.\n"
     ]
    }
   ],
   "source": [
    "# Now we're ready for a SQL UNION statement\n",
    "\n",
    "with engine.connect() as con:\n",
    "\n",
    "    union_query = \"\"\"SELECT * FROM %s UNION SELECT * FROM %s UNION SELECT * FROM %s\"\"\"\n",
    "\n",
    "    union = con.execute(union_query % ('r6_leaderboard_database.na_leaderboard',\n",
    "                                      'r6_leaderboard_database.eu_leaderboard',\n",
    "                                      'r6_leaderboard_database.as_leaderboard'))\n",
    "    \n",
    "    # Let's create a new table in the mysql server for this query since it will be our master dataset\n",
    "    df = pd.DataFrame(union.fetchall())\n",
    "    df.columns = union.keys()\n",
    "    \n",
    "    df.to_sql(name='all_leaderboard', con=engine,\n",
    "          if_exists='replace', index=False, chunksize=1000)\n",
    "    \n",
    "    con.close()\n",
    "    \n",
    "    \n",
    "print('Good to go.')\n",
    "    "
   ]
  },
  {
   "cell_type": "code",
   "execution_count": 36,
   "metadata": {},
   "outputs": [
    {
     "name": "stdout",
     "output_type": "stream",
     "text": [
      "      kd p_AS_rank p_EU_rank p_NA_rank p_currentmmr p_currentrank  \\\n",
      "0    251        14        20        20         6539            20   \n",
      "1    166        20         0        20         6486            20   \n",
      "2    187        20        20        20         6419            20   \n",
      "3    157         0         0        20         6036            20   \n",
      "4    262         0         0        20         6025            20   \n",
      "5    159        20         0        20         6013            20   \n",
      "6    160         0        16        20         5921            20   \n",
      "7    161         0         0        20         5871            20   \n",
      "8    144         0         0        20         5841            20   \n",
      "9    119        19         0        20         5749            20   \n",
      "10   174         0        19        20         5737            20   \n",
      "11   181         0         0        20         5732            20   \n",
      "12   106         0         3        20         5718            20   \n",
      "13   154         0         0        20         5716            20   \n",
      "14   242         0         0        20         5676            20   \n",
      "15   141         0        20        20         5640            20   \n",
      "16   240         0         0        20         5575            20   \n",
      "17   133         0         0        20         5572            20   \n",
      "18   119         0        18        20         5550            20   \n",
      "19   143         0         0        20         5524            20   \n",
      "20   133         0         0        20         5510            20   \n",
      "21   126         0         0        20         5510            20   \n",
      "22   152         0         0        20         5502            20   \n",
      "23   132         0         0        20         5487            20   \n",
      "24   161         0         0        20         5487            20   \n",
      "25   152         0         0        20         5473            20   \n",
      "26   139         0         0        20         5468            20   \n",
      "27   147         0         0        20         5467            20   \n",
      "28   151         0         0        20         5464            20   \n",
      "29   149         0         0        20         5453            20   \n",
      "..   ...       ...       ...       ...          ...           ...   \n",
      "270  155        20         0         0         5237            20   \n",
      "271  144        20         0         0         5236            20   \n",
      "272  159        20         0         0         5235            20   \n",
      "273  119        20         0         0         5214            20   \n",
      "274  144        20         0         0         5190            20   \n",
      "275   85        20         0         0         5187            20   \n",
      "276  154        20         0         0         5180            20   \n",
      "277  101        20         0         0         5179            20   \n",
      "278  163        20         0        14         5141            20   \n",
      "279  127        20         0         0         5135            20   \n",
      "280  126        20         0         0         5123            20   \n",
      "281  142        20         0         0         5120            20   \n",
      "282  128        20         0        18         5113            20   \n",
      "283  134        20         0         0         5111            20   \n",
      "284  114        20         0         0         5104            20   \n",
      "285  128        20         0        17         5101            20   \n",
      "286  129        20         0         0         5099            20   \n",
      "287  138        20         0         0         5097            20   \n",
      "288  168        20         0         0         5094            20   \n",
      "289  207        20         0        17         5094            20   \n",
      "290  133        20         0        19         5091            20   \n",
      "291  124        20         0        18         5077            20   \n",
      "292  130        20         0         0         5066            20   \n",
      "293  112        20         0         0         5061            20   \n",
      "294  116        20         0         0         5059            20   \n",
      "295  131        20         0         0         5058            20   \n",
      "296  136        20        20        15         5058            20   \n",
      "297  150        20         0         0         5053            20   \n",
      "298  140        20         0         0         5048            20   \n",
      "299  153        20         0         0         5046            20   \n",
      "\n",
      "    p_headshotacc                                  p_id p_level  \\\n",
      "0        64590000  f9eeea28-4c13-48df-b96a-49c726bf546c     158   \n",
      "1        54950000  acb9b554-30d2-4519-b64c-9d6d6d511675     340   \n",
      "2        44910000  92524ff7-98f6-466c-a6ea-83c3334e56e8     269   \n",
      "3        47570000  7a9e6cd8-ef93-409a-a01c-ddd0774b007b     326   \n",
      "4        60080000  711e055a-723e-4e5b-9ffc-d978d50a21e2     283   \n",
      "5        43540000  30c7bfcc-87fb-48d0-8f18-80b8fb8f80f3     216   \n",
      "6        39190000  bfa594b5-ed6e-43aa-8fbe-8e03e4ebb4c8     338   \n",
      "7        43220000  0af9451e-66ec-45ba-8a96-a3e89d2118aa     149   \n",
      "8        46120000  36e684d7-5a57-42df-9b00-1c60e7c91f28     366   \n",
      "9        42830000  266e05ca-ef14-4ee9-842f-1a54956a391c     287   \n",
      "10       59300000  eb56b657-f8e3-4312-9cc8-2755e83362e5     132   \n",
      "11       45350000  34affbaa-156f-4e5a-8cde-34a33a4f02ae     170   \n",
      "12       39490000  282087f5-ab89-4739-934b-84aabb9df02b     290   \n",
      "13       51030000  5d5d93a9-95e5-455a-bf96-34df816ed79b     357   \n",
      "14       49590000  003b136c-c00e-4ef8-9690-2376ffcd2e6d     198   \n",
      "15       40920000  5d3d5dec-347e-4ae0-9b58-b86947fe7da8     299   \n",
      "16       34580000  063cd809-7d45-4e2c-a424-45c1904bbc3f     158   \n",
      "17       46750000  7281d621-d79e-4243-977c-6f5576bd1990     341   \n",
      "18       48330000  ec3238dc-ea56-4ee8-b4e6-b71e141cb628     304   \n",
      "19       57500000  d65b58f1-74de-40a3-84a0-670a8365aab6     347   \n",
      "20       41290000  54a6b6b2-d69c-42ea-b495-d1a1995e3002     244   \n",
      "21       44880000  786e187f-ed8f-4c05-b3f6-12be94dc664b     280   \n",
      "22       52180000  0a966c73-d531-4124-99b0-9a6c53f4832f     330   \n",
      "23       47750000  6281195c-d210-424e-9d8c-880cbea36c7e     321   \n",
      "24       59600000  76e66a0a-8c4a-4170-bfdb-7f8d26348540     121   \n",
      "25       39150000  3c81e65e-d871-4314-a280-4caa7df96595     265   \n",
      "26       48950000  03adbae7-33f1-47d7-9128-ef8a4b036e4c     192   \n",
      "27       53300000  0673e196-aa79-419b-abf1-10a1866fe666     254   \n",
      "28       45120000  c7e3400d-a8e7-4995-8968-821b516d8acd     260   \n",
      "29       47890000  597d5f94-70b2-4c0a-9efe-be17e722a160     292   \n",
      "..            ...                                   ...     ...   \n",
      "270      45440000  ea48ecce-8751-4fe0-9461-3323ab35ab5e     223   \n",
      "271      42370000  7e26da46-720d-4bf6-ab41-45ec284e95bf     177   \n",
      "272      41450000  ead68f70-3346-45c2-8036-3b7d66acd00c     250   \n",
      "273      39060000  aef62f61-2834-4912-b260-a77559e690ef     256   \n",
      "274      48880000  69353f2a-37e5-4020-961f-471d0d0175e4     232   \n",
      "275      27810000  61c8d49e-7db6-461d-951d-a31c137553d0     175   \n",
      "276      40520000  c95b0d87-64a6-4bf2-8d6e-f83b855a2ad5     179   \n",
      "277      37710000  f06bd83d-bea9-4a2f-9fe5-fe145300ea0d     192   \n",
      "278      37500000  7a55f2f7-1c01-48e0-b674-e04f17feaf36     150   \n",
      "279      41620000  58c29548-f751-40ae-b312-09e28352680a     228   \n",
      "280      39280000  70286908-20b8-4b23-8ebf-42bd14c0f958     263   \n",
      "281      48310000  f5ddcaca-eb99-4eec-bf4e-7692175529d5     135   \n",
      "282      44420000  e790a31f-638c-4bed-a935-d9f0bc586c32     267   \n",
      "283      39600000  133acae1-bfd9-47b6-b0ca-c1bef065a533     257   \n",
      "284      46890000  05b41779-37c0-4160-b766-71db5d437a8f     168   \n",
      "285      51800000  b1dfdfd2-26a6-446e-b1c1-a017a26f95a2     391   \n",
      "286      36070000  4520d97d-9770-497c-a502-f33eae081c45     170   \n",
      "287      45620000  73f7fdc4-2732-4d78-b570-0b50d79be3bc     227   \n",
      "288      47000000  271584b2-0ffc-4548-a494-76dba4abdf9f     148   \n",
      "289      46820000  1a16f2cf-7bdf-4c0f-aff5-a1b103c2814e     197   \n",
      "290      43180000  917bb1e1-5419-45b0-a1c2-72c9aabcb63e     305   \n",
      "291      49410000  6427605b-f980-4e9b-acec-0c093cf9910c     277   \n",
      "292      44390000  f54d247e-4d9d-44df-b06d-6487144b5096     307   \n",
      "293      43960000  dc6683be-efb1-49c1-9800-9d5f62ef5e5b     217   \n",
      "294      38310000  72a19a29-d04f-4e5e-ae63-f9d94cbbf359     259   \n",
      "295      32440000  7e203549-aa30-48f7-a58c-8ee9cf73be16     301   \n",
      "296      53560000  b376d9a9-07bb-43e1-8f2c-718b475a5afa     350   \n",
      "297      48220000  8c08ba63-6f27-45a8-949f-366104cdc527     310   \n",
      "298      40750000  bfe309c9-f773-48bb-8ee3-de4631cc8a6f     273   \n",
      "299      53310000  1d258358-25c5-4d60-b333-1938e2fa8d4a     144   \n",
      "\n",
      "             p_name p_platform p_skillrating  \\\n",
      "0            One.TT      uplay         10602   \n",
      "1          Pi3troll      uplay          9940   \n",
      "2            Raclis      uplay         10253   \n",
      "3    geeometrics.EG      uplay          9695   \n",
      "4              hyi.      uplay         10899   \n",
      "5           Raclis.      uplay          9831   \n",
      "6         Bosco.SSG      uplay          9777   \n",
      "7           Dozer.-      uplay         10006   \n",
      "8      Achieved.ExG      uplay          9708   \n",
      "9     Yamada.Tarou.      uplay          9407   \n",
      "10      Scorpi0n...      uplay         10000   \n",
      "11     SoulZagueiro      uplay          9994   \n",
      "12       harley.TBS      uplay         10442   \n",
      "13     Paluh.Liquid      uplay         10041   \n",
      "14   llIIIIIIIIIlII      uplay         10124   \n",
      "15            Toast      uplay          9671   \n",
      "16        Mordhau.-      uplay         10635   \n",
      "17       Frosty.HwC      uplay          9517   \n",
      "18      OutCast.Obk      uplay          9793   \n",
      "19     Hotancold.DZ      uplay          9839   \n",
      "20             Lean      uplay          9640   \n",
      "21    dm.relentless      uplay          9502   \n",
      "22       Hyper.Rise      uplay          9814   \n",
      "23            KDS..      uplay          9482   \n",
      "24         Tw2TaP-.      uplay         10096   \n",
      "25         Fultz.oC      uplay          9652   \n",
      "26         CobrA.--      uplay          9532   \n",
      "27        Acid.Rise      uplay          9798   \n",
      "28         bravodog      uplay          9754   \n",
      "29        MKing.IMT      uplay          9844   \n",
      "..              ...        ...           ...   \n",
      "270         Lily.GG      uplay          9785   \n",
      "271       LangD.GJR      uplay         10486   \n",
      "272   Saver.Latency      uplay          9815   \n",
      "273    Roldinii.NEX      uplay          9446   \n",
      "274      MiYeon131-      uplay          9824   \n",
      "275     M4_SaKuraEX      uplay          8793   \n",
      "276      Natasha.-.      uplay          9727   \n",
      "277        EZxc.Ai2      uplay         10096   \n",
      "278           KKAE-      uplay          9920   \n",
      "279       Mizu.Lese      uplay          9486   \n",
      "280       JamesBoy.      uplay          9596   \n",
      "281     YOUWANTKILL      uplay          9630   \n",
      "282          Nio.E2      uplay          9622   \n",
      "283       Danny.OrZ      uplay          9720   \n",
      "284   LoveYiRan.GJR      uplay          9833   \n",
      "285          sprshu      uplay          9676   \n",
      "286      Kuihua.MFL      uplay          9087   \n",
      "287       Amew.SoTS      uplay          9664   \n",
      "288      Elias_____      uplay          9747   \n",
      "289      spr1Ron.GA      uplay         10015   \n",
      "290      igNItE.Ask      uplay          9909   \n",
      "291        Arnie.AJ      uplay          9399   \n",
      "292     WARBARK.NEX      uplay          9520   \n",
      "293       KneeBl0w.      uplay          9245   \n",
      "294  OneMoreChance.      uplay          9760   \n",
      "295    THE.REALNOOB      uplay          9721   \n",
      "296        BellyRub      uplay          9521   \n",
      "297        James79.      uplay         10159   \n",
      "298       Santafe.-      uplay          9570   \n",
      "299          CG_YTH      uplay         10356   \n",
      "\n",
      "                                   p_user  position verified  \n",
      "0    f9eeea28-4c13-48df-b96a-49c726bf546c         1        0  \n",
      "1    acb9b554-30d2-4519-b64c-9d6d6d511675         2        0  \n",
      "2    92524ff7-98f6-466c-a6ea-83c3334e56e8         3        0  \n",
      "3    7a9e6cd8-ef93-409a-a01c-ddd0774b007b         4        0  \n",
      "4    711e055a-723e-4e5b-9ffc-d978d50a21e2         5        0  \n",
      "5    30c7bfcc-87fb-48d0-8f18-80b8fb8f80f3         6        0  \n",
      "6    bfa594b5-ed6e-43aa-8fbe-8e03e4ebb4c8         7        1  \n",
      "7    0af9451e-66ec-45ba-8a96-a3e89d2118aa         8        0  \n",
      "8    36e684d7-5a57-42df-9b00-1c60e7c91f28         9        0  \n",
      "9    266e05ca-ef14-4ee9-842f-1a54956a391c        10        0  \n",
      "10   eb56b657-f8e3-4312-9cc8-2755e83362e5        11        0  \n",
      "11   34affbaa-156f-4e5a-8cde-34a33a4f02ae        12        0  \n",
      "12   282087f5-ab89-4739-934b-84aabb9df02b        13        0  \n",
      "13   5d5d93a9-95e5-455a-bf96-34df816ed79b        14        0  \n",
      "14   003b136c-c00e-4ef8-9690-2376ffcd2e6d        15        0  \n",
      "15   5d3d5dec-347e-4ae0-9b58-b86947fe7da8        16        0  \n",
      "16   063cd809-7d45-4e2c-a424-45c1904bbc3f        17        0  \n",
      "17   7281d621-d79e-4243-977c-6f5576bd1990        18        0  \n",
      "18   ec3238dc-ea56-4ee8-b4e6-b71e141cb628        19        0  \n",
      "19   d65b58f1-74de-40a3-84a0-670a8365aab6        20        0  \n",
      "20   54a6b6b2-d69c-42ea-b495-d1a1995e3002        21        0  \n",
      "21   786e187f-ed8f-4c05-b3f6-12be94dc664b        22        0  \n",
      "22   0a966c73-d531-4124-99b0-9a6c53f4832f        23        0  \n",
      "23   6281195c-d210-424e-9d8c-880cbea36c7e        24        0  \n",
      "24   76e66a0a-8c4a-4170-bfdb-7f8d26348540        25        0  \n",
      "25   3c81e65e-d871-4314-a280-4caa7df96595        26        0  \n",
      "26   03adbae7-33f1-47d7-9128-ef8a4b036e4c        27        0  \n",
      "27   0673e196-aa79-419b-abf1-10a1866fe666        28        0  \n",
      "28   c7e3400d-a8e7-4995-8968-821b516d8acd        29        0  \n",
      "29   597d5f94-70b2-4c0a-9efe-be17e722a160        30        0  \n",
      "..                                    ...       ...      ...  \n",
      "270  ea48ecce-8751-4fe0-9461-3323ab35ab5e        71        0  \n",
      "271  7e26da46-720d-4bf6-ab41-45ec284e95bf        72        0  \n",
      "272  ead68f70-3346-45c2-8036-3b7d66acd00c        73        0  \n",
      "273  aef62f61-2834-4912-b260-a77559e690ef        74        0  \n",
      "274  69353f2a-37e5-4020-961f-471d0d0175e4        75        0  \n",
      "275  61c8d49e-7db6-461d-951d-a31c137553d0        76        0  \n",
      "276  c95b0d87-64a6-4bf2-8d6e-f83b855a2ad5        77        0  \n",
      "277  f06bd83d-bea9-4a2f-9fe5-fe145300ea0d        78        0  \n",
      "278  7a55f2f7-1c01-48e0-b674-e04f17feaf36        79        0  \n",
      "279  58c29548-f751-40ae-b312-09e28352680a        80        0  \n",
      "280  70286908-20b8-4b23-8ebf-42bd14c0f958        81        0  \n",
      "281  f5ddcaca-eb99-4eec-bf4e-7692175529d5        82        0  \n",
      "282  e790a31f-638c-4bed-a935-d9f0bc586c32        83        0  \n",
      "283  133acae1-bfd9-47b6-b0ca-c1bef065a533        84        0  \n",
      "284  05b41779-37c0-4160-b766-71db5d437a8f        85        0  \n",
      "285  b1dfdfd2-26a6-446e-b1c1-a017a26f95a2        86        0  \n",
      "286  4520d97d-9770-497c-a502-f33eae081c45        87        0  \n",
      "287  73f7fdc4-2732-4d78-b570-0b50d79be3bc        88        0  \n",
      "288  271584b2-0ffc-4548-a494-76dba4abdf9f        89        0  \n",
      "289  1a16f2cf-7bdf-4c0f-aff5-a1b103c2814e        90        0  \n",
      "290  917bb1e1-5419-45b0-a1c2-72c9aabcb63e        91        0  \n",
      "291  6427605b-f980-4e9b-acec-0c093cf9910c        92        0  \n",
      "292  f54d247e-4d9d-44df-b06d-6487144b5096        93        0  \n",
      "293  dc6683be-efb1-49c1-9800-9d5f62ef5e5b        94        0  \n",
      "294  72a19a29-d04f-4e5e-ae63-f9d94cbbf359        95        0  \n",
      "295  7e203549-aa30-48f7-a58c-8ee9cf73be16        96        0  \n",
      "296  b376d9a9-07bb-43e1-8f2c-718b475a5afa        97        0  \n",
      "297  8c08ba63-6f27-45a8-949f-366104cdc527        98        0  \n",
      "298  bfe309c9-f773-48bb-8ee3-de4631cc8a6f        99        0  \n",
      "299  1d258358-25c5-4d60-b333-1938e2fa8d4a       100        0  \n",
      "\n",
      "[300 rows x 15 columns]\n"
     ]
    }
   ],
   "source": [
    "# Now we got our master dataset!\n",
    "\n",
    "print(df)"
   ]
  },
  {
   "cell_type": "markdown",
   "metadata": {},
   "source": [
    "## Issue #2\n",
    "\n",
    "**Further Data cleansing is required. The datatypes of the columns are all in TEXT. We need to change some into numeric\n",
    "data types to be able to run analysis on them.**\n",
    "\n",
    "For example, the kd column is actually a ratio column.\n",
    "\n",
    "- *Player One.TT has a kd of 251, which should be 2.51. So we need to do this calculation (kd / 100)*\n",
    "\n",
    "Similar situation for p_headshotaccuracy...\n",
    "\n",
    "- *One.TT has a hs accuracy of 64,590,000. This should be a percentage (64.59%): (p_headshotacc / 1,000,000)*\n",
    "\n",
    "Other columns such as p_currentmmr should simply be an integer column.\n"
   ]
  },
  {
   "cell_type": "code",
   "execution_count": 75,
   "metadata": {},
   "outputs": [
    {
     "name": "stdout",
     "output_type": "stream",
     "text": [
      "   p_name   kd p_headshotacc\n",
      "0  One.TT  251      64590000\n"
     ]
    }
   ],
   "source": [
    "# Example of issue #2:\n",
    "\n",
    "query = \"\"\"SELECT p_name, kd, p_headshotacc FROM r6_leaderboard_database.all_leaderboard\"\"\"\n",
    "df = pd.read_sql(query, con=engine)\n",
    "\n",
    "print(df.head(1))"
   ]
  },
  {
   "cell_type": "code",
   "execution_count": 39,
   "metadata": {},
   "outputs": [
    {
     "name": "stdout",
     "output_type": "stream",
     "text": [
      "           p_name kd_ratio p_headshotacc  p_currentmmr  p_level  p_skillrating\n",
      "0          One.TT     2.51         64.59          6539      158          10602\n",
      "1        Pi3troll     1.66         54.95          6486      340           9940\n",
      "2          Raclis     1.87         44.91          6419      269          10253\n",
      "3  geeometrics.EG     1.57         47.57          6036      326           9695\n",
      "4            hyi.     2.62         60.08          6025      283          10899\n",
      "\n",
      "Variables Ready for Analysis.\n"
     ]
    }
   ],
   "source": [
    "# This can all be fixed with a SQL query.\n",
    "with engine.connect() as con:\n",
    "\n",
    "    aggregate_query = \"\"\"\n",
    "                      SELECT p_name,\n",
    "                             cast(kd / 100 as decimal(10,2)) as kd_ratio, \n",
    "                             cast(p_headshotacc / 1000000 as decimal(10,2)) as p_headshotacc,\n",
    "                             cast(p_currentmmr as UNSIGNED) as p_currentmmr,\n",
    "                             cast(p_level as UNSIGNED) as p_level,\n",
    "                             cast(p_skillrating as UNSIGNED) as p_skillrating\n",
    "                        FROM all_leaderboard\n",
    "                      \"\"\"\n",
    "\n",
    "    aggregate_exec = con.execute(aggregate_query)\n",
    "\n",
    "    # Store the aggregated data into a data frame\n",
    "    df_aggregate = pd.DataFrame(aggregate_exec.fetchall())\n",
    "    df_aggregate.columns = aggregate_exec.keys()\n",
    "    print(df_aggregate.head(5))\n",
    "\n",
    "    con.close()\n",
    "\n",
    "# Let's create a new table in the mysql server for these variables\n",
    "df_aggregate.to_sql(name='focus', con=engine,\n",
    "          if_exists='replace', index=False, chunksize=1000)\n",
    "\n",
    "print('\\nVariables Ready for Analysis.')\n"
   ]
  },
  {
   "cell_type": "markdown",
   "metadata": {},
   "source": [
    "# Data Analysis"
   ]
  },
  {
   "cell_type": "markdown",
   "metadata": {},
   "source": [
    "## Introduction\n",
    "\n",
    "**Variables:**\n",
    "\n",
    "Rainbow Six Siege (R6Siege) is a competitive 5v5 FPS video game with a simple setting: Attackers siege the Defender's base and complete an objective based on the game mode (ex: Hostage Rescue or BomB Defusal). As with every competitive video game, there is a ranked system involved that determines how an individual stacks up to the rest of the playerbase. Currently, the developer of R6Siege, Ubisoft, has a ranking system that includes 20 ranks. It is structured as such:\n",
    "![ubisoft_CHART](images/ubisoft_CHART.png)\n",
    "\n",
    "\n",
    "\n",
    "A player's skill rank is first obtained after successfully completing 10 ranked matches. These ranks are derived from numerical scores generated by the [TrueSkill](https://en.wikipedia.org/wiki/TrueSkill) algorithm.\n",
    "\n",
    "From there, a player's skill rank is changed based on:\n",
    "\n",
    "- The relative skill levels of the players/teams in the game.\n",
    "- Whether or not the player won the match.\n",
    "- **Score and Kill/Death ratio do not matter toward ranking.**\n",
    "- Large skill difference between teams has a dramatic outcome based on who won the match.\n",
    " - If a Bronze team loses to a Gold team, neither team's rank will change much.\n",
    " - If a Bronze team wins against a Gold team, both team's rank will change dramatically. $^1$\n",
    "\n",
    "The bolded bullet point is the main purpose of this project. There are several websites that track player's statistics (including their ranking). Many players use these websites to keep track of their progress, and to compare where they are in the global leaderboard. These websites also attempt to create their own arbitrary ranking system to try to get a better determinant of player skill than Ubisoft's current system that only calculates wins and losses. I investigated R6tab's very own TabRank rating system. This is how R6Tab structures their ranking system:\n",
    "![alt text](CHART2.png \"R6TAB Ranks\").\n",
    "\n",
    "This is a problematic formula in determining rank within it's database as it only accounts for a few variables such as kill:death ratio, headshot accuracy, and current matchmaking rating (MMR, also = Ubisoft rating). Creating a new rating system that simply adds k:d ratio and headshot accuracy on top of Ubisoft's mmr system to minimize the amount of calculation involved in determining a leader board is erroneous in the fact that you rely heavily on a weighted variable (currentMMR) to account for games won, skill differential, etc. Furthermore, as it stands, R6Tab's skill rating system is flawed by mainly accounting for kill/death and headshot accuracy. As a result, R6tab's rating system caters towards only certain playstyles such as hyper-aggressiveness and excludes more support-like playstyles.\n",
    "\n",
    "My hypothesis is that the statistic kill:death ratio (kd_ratio) will be a much stronger predictor than current mmr in determining R6Tab's skill rating (p_skillrating). I will use linear regression models to test my hypothesis. \n",
    "\n"
   ]
  },
  {
   "cell_type": "markdown",
   "metadata": {},
   "source": [
    "## Variables"
   ]
  },
  {
   "cell_type": "markdown",
   "metadata": {},
   "source": [
    "\n",
    "The following are variables included in my data analysis:\n",
    "\n",
    "- **_p_name_** is the player's name\n",
    "\n",
    "- __*kd_ratio*__ is the ratio of kills to deaths a player has\n",
    "\n",
    "- __*p_headshotacc*__ is the percentage of kills that ended with headshots\n",
    "\n",
    "- __*p_currentmmr*__ is Ubisoft's Matchmaking Rating System value. This is an approximate value of the __*p_REGION_rank*__ variable. A player's rank(copper-diamond) depends on their mmr (copper=0-1699, diamond=3700+)\n",
    "\n",
    "- __*p_level*__ is the player's overall level. This is separate from the rating system and is more of an indicator of time played\n",
    "\n",
    "- **_p_skillrating_** is R6Tab's Rating System\n",
    "\n",
    "Extra variables not important to the discussion:\n",
    "\n",
    "- __*p_AS_rank*__ is the player's Ubisoft rating on Asia's leaderboard (0=Not rated, 10=Silver III, 20=Diamond)\n",
    "\n",
    "- __*p_EU_rank*__ is the player's Ubisoft rating on Europe's leaderboard\n",
    "\n",
    "- __*p_NA_rank*__ is the player's Ubisoft rating on North America's leaderboard\n",
    "\n",
    "- __*p_current_rank*__ is a duplicate column of the player's regional ranking. I did not remove these because it was not imperative for analysis.\n",
    "\n",
    "- __*p_id*__ is the player's unique ID Ubisoft code.\n",
    "\n",
    "- __*p_platform*__ is the platform the player plays on. I stuck with PC (uplay) playerbase only.\n",
    "\n",
    "- __*p_user*__ duplicate of __*p_id*__. \n",
    "\n",
    "- __*p_position*__ is the player's position in the leaderboard for ubisoft's MMR. The higher the __*p_currentmmr*__ the higher the player is in the leaderboard.\n",
    "\n",
    "\n"
   ]
  },
  {
   "cell_type": "markdown",
   "metadata": {},
   "source": [
    "## Analysis\n",
    "\n",
    "To begin, let's make sure there's no null values in our dataset."
   ]
  },
  {
   "cell_type": "code",
   "execution_count": 44,
   "metadata": {},
   "outputs": [
    {
     "name": "stdout",
     "output_type": "stream",
     "text": [
      "kd_ratio         0\n",
      "p_headshotacc    0\n",
      "p_currentmmr     0\n",
      "p_level          0\n",
      "p_skillrating    0\n",
      "dtype: int64\n"
     ]
    }
   ],
   "source": [
    "query = \"\"\"\n",
    "        SELECT kd_ratio, \n",
    "               p_headshotacc, \n",
    "               p_currentmmr, \n",
    "               p_level, \n",
    "               p_skillrating \n",
    "          FROM r6_leaderboard_database.focus\n",
    "        \"\"\"\n",
    "\n",
    "df = pd.read_sql(query, con=engine)\n",
    "print(df.isnull().sum())"
   ]
  },
  {
   "cell_type": "markdown",
   "metadata": {},
   "source": [
    "Good, no nulls. Now let's check a correlation heatmap of our variables for a bit of forecasting.."
   ]
  },
  {
   "cell_type": "code",
   "execution_count": 46,
   "metadata": {},
   "outputs": [
    {
     "data": {
      "image/png": "[encoded data removed]",
      "text/plain": [
       "<Figure size 720x720 with 2 Axes>"
      ]
     },
     "metadata": {
      "needs_background": "light"
     },
     "output_type": "display_data"
    }
   ],
   "source": [
    "plt.figure(figsize=(10, 10))\n",
    "sns.heatmap(df.corr(), annot=True, fmt='.1f')\n",
    "plt.show()"
   ]
  },
  {
   "cell_type": "markdown",
   "metadata": {},
   "source": [
    "__*kd_ratio*__ has the highest correlation with __*p_skillrating*__ and __*p_currentmmr*__ is close behind.. \n",
    "\n",
    "However this is not enough to reject the null hypothesis that kd_ratio is not a stronger predictor of skillrating than currentmmr. I also include headshot accuracy into my models as R6tab stated that it is also a variable included in the calculation of their rating system.\n",
    "\n",
    "Let's do some simple OLS regression tests"
   ]
  },
  {
   "cell_type": "code",
   "execution_count": 49,
   "metadata": {},
   "outputs": [
    {
     "name": "stdout",
     "output_type": "stream",
     "text": [
      "                            OLS Regression Results                            \n",
      "==============================================================================\n",
      "Dep. Variable:          p_skillrating   R-squared:                       0.446\n",
      "Model:                            OLS   Adj. R-squared:                  0.444\n",
      "Method:                 Least Squares   F-statistic:                     240.1\n",
      "Date:                Wed, 15 May 2019   Prob (F-statistic):           3.98e-40\n",
      "Time:                        14:15:39   Log-Likelihood:                -2167.5\n",
      "No. Observations:                 300   AIC:                             4339.\n",
      "Df Residuals:                     298   BIC:                             4346.\n",
      "Df Model:                           1                                         \n",
      "Covariance Type:            nonrobust                                         \n",
      "==============================================================================\n",
      "                 coef    std err          t      P>|t|      [0.025      0.975]\n",
      "------------------------------------------------------------------------------\n",
      "Intercept   8714.0342     77.770    112.049      0.000    8560.986    8867.082\n",
      "kd_ratio     762.5217     49.212     15.495      0.000     665.675     859.368\n",
      "==============================================================================\n",
      "Omnibus:                       97.761   Durbin-Watson:                   1.929\n",
      "Prob(Omnibus):                  0.000   Jarque-Bera (JB):              390.644\n",
      "Skew:                           1.337   Prob(JB):                     1.49e-85\n",
      "Kurtosis:                       7.909   Cond. No.                         8.83\n",
      "==============================================================================\n",
      "\n",
      "Warnings:\n",
      "[1] Standard Errors assume that the covariance matrix of the errors is correctly specified.\n"
     ]
    },
    {
     "data": {
      "image/png": "[encoded data removed]",
      "text/plain": [
       "<Figure size 864x576 with 1 Axes>"
      ]
     },
     "metadata": {
      "needs_background": "light"
     },
     "output_type": "display_data"
    }
   ],
   "source": [
    "# kd_ratio on p_skillrating\n",
    "query = \"\"\"SELECT kd_ratio, p_skillrating FROM r6_leaderboard_database.focus\"\"\"\n",
    "df = pd.read_sql(query, con=engine)\n",
    "\n",
    "result = sm.ols(formula=\"p_skillrating ~ kd_ratio\", data=df).fit()\n",
    "\n",
    "print(result.summary())\n",
    "\n",
    "sns.lmplot(x='kd_ratio', y='p_skillrating', data=df, height=8, aspect=1.5)\n",
    "plt.show()"
   ]
  },
  {
   "cell_type": "markdown",
   "metadata": {},
   "source": [
    "__Quick Summary:__ As predicted, kd_ratio is a significant predictor of p_skillrating. However, the standard error of the predictor is extremely high. Let's keep a note of this moving forward...\n",
    "\n"
   ]
  },
  {
   "cell_type": "code",
   "execution_count": 50,
   "metadata": {},
   "outputs": [
    {
     "name": "stdout",
     "output_type": "stream",
     "text": [
      "                            OLS Regression Results                            \n",
      "==============================================================================\n",
      "Dep. Variable:          p_skillrating   R-squared:                       0.014\n",
      "Model:                            OLS   Adj. R-squared:                  0.010\n",
      "Method:                 Least Squares   F-statistic:                     4.096\n",
      "Date:                Wed, 15 May 2019   Prob (F-statistic):             0.0439\n",
      "Time:                        14:29:58   Log-Likelihood:                -2254.1\n",
      "No. Observations:                 300   AIC:                             4512.\n",
      "Df Residuals:                     298   BIC:                             4520.\n",
      "Df Model:                           1                                         \n",
      "Covariance Type:            nonrobust                                         \n",
      "=================================================================================\n",
      "                    coef    std err          t      P>|t|      [0.025      0.975]\n",
      "---------------------------------------------------------------------------------\n",
      "Intercept      9506.5096    187.081     50.815      0.000    9138.343    9874.676\n",
      "p_headshotacc     8.2132      4.058      2.024      0.044       0.227      16.199\n",
      "==============================================================================\n",
      "Omnibus:                       37.177   Durbin-Watson:                   1.813\n",
      "Prob(Omnibus):                  0.000   Jarque-Bera (JB):               77.622\n",
      "Skew:                           0.646   Prob(JB):                     1.39e-17\n",
      "Kurtosis:                       5.131   Cond. No.                         336.\n",
      "==============================================================================\n",
      "\n",
      "Warnings:\n",
      "[1] Standard Errors assume that the covariance matrix of the errors is correctly specified.\n"
     ]
    },
    {
     "data": {
      "image/png": "[encoded data removed]",
      "text/plain": [
       "<Figure size 864x576 with 1 Axes>"
      ]
     },
     "metadata": {
      "needs_background": "light"
     },
     "output_type": "display_data"
    }
   ],
   "source": [
    "# p_headshotacc on p_skillrating\n",
    "\n",
    "query = \"\"\"SELECT p_headshotacc, p_skillrating FROM r6_leaderboard_database.focus\"\"\"\n",
    "df = pd.read_sql(query, con=engine)\n",
    "\n",
    "result = sm.ols(formula=\"p_skillrating ~ p_headshotacc\", data=df).fit()\n",
    "\n",
    "print(result.summary())\n",
    "\n",
    "sns.lmplot(x='p_headshotacc', y='p_skillrating', data=df, height=8, aspect=1.5)\n",
    "plt.show()"
   ]
  },
  {
   "cell_type": "markdown",
   "metadata": {},
   "source": [
    "__Quick Summary:__ As expected from R6Tab's explanation of how they calculate their rating system, headshot accuracy is also a significant predictor, but much less so than k:d ratio. "
   ]
  },
  {
   "cell_type": "code",
   "execution_count": 53,
   "metadata": {},
   "outputs": [
    {
     "name": "stdout",
     "output_type": "stream",
     "text": [
      "                            OLS Regression Results                            \n",
      "==============================================================================\n",
      "Dep. Variable:          p_skillrating   R-squared:                       0.129\n",
      "Model:                            OLS   Adj. R-squared:                  0.126\n",
      "Method:                 Least Squares   F-statistic:                     44.18\n",
      "Date:                Wed, 15 May 2019   Prob (F-statistic):           1.43e-10\n",
      "Time:                        14:40:35   Log-Likelihood:                -2235.4\n",
      "No. Observations:                 300   AIC:                             4475.\n",
      "Df Residuals:                     298   BIC:                             4482.\n",
      "Df Model:                           1                                         \n",
      "Covariance Type:            nonrobust                                         \n",
      "================================================================================\n",
      "                   coef    std err          t      P>|t|      [0.025      0.975]\n",
      "--------------------------------------------------------------------------------\n",
      "Intercept     8135.1532    263.854     30.832      0.000    7615.900    8654.407\n",
      "p_currentmmr     0.3160      0.048      6.647      0.000       0.222       0.410\n",
      "==============================================================================\n",
      "Omnibus:                       26.966   Durbin-Watson:                   2.035\n",
      "Prob(Omnibus):                  0.000   Jarque-Bera (JB):               67.492\n",
      "Skew:                           0.402   Prob(JB):                     2.21e-15\n",
      "Kurtosis:                       5.180   Cond. No.                     6.07e+04\n",
      "==============================================================================\n",
      "\n",
      "Warnings:\n",
      "[1] Standard Errors assume that the covariance matrix of the errors is correctly specified.\n",
      "[2] The condition number is large, 6.07e+04. This might indicate that there are\n",
      "strong multicollinearity or other numerical problems.\n"
     ]
    },
    {
     "data": {
      "image/png": "[encoded data removed]",
      "text/plain": [
       "<Figure size 864x576 with 1 Axes>"
      ]
     },
     "metadata": {
      "needs_background": "light"
     },
     "output_type": "display_data"
    }
   ],
   "source": [
    "# p_currentmmr on p_skillrating\n",
    "\n",
    "query = \"\"\"SELECT p_currentmmr, p_skillrating FROM r6_leaderboard_database.focus\"\"\"\n",
    "df = pd.read_sql(query, con=engine)\n",
    "\n",
    "result = sm.ols(formula=\"p_skillrating ~ p_currentmmr\", data=df).fit()\n",
    "\n",
    "print(result.summary())\n",
    "\n",
    "sns.lmplot(x='p_currentmmr', y='p_skillrating', data=df, height=8, aspect=1.5)\n",
    "plt.show()"
   ]
  },
  {
   "cell_type": "markdown",
   "metadata": {},
   "source": [
    "__Quick Summary:__ And Ubisoft's MMR system is also a significant predictor, with a very agreeable standard error. "
   ]
  },
  {
   "cell_type": "code",
   "execution_count": 63,
   "metadata": {},
   "outputs": [
    {
     "name": "stdout",
     "output_type": "stream",
     "text": [
      "                            OLS Regression Results                            \n",
      "==============================================================================\n",
      "Dep. Variable:          p_skillrating   R-squared:                       0.491\n",
      "Model:                            OLS   Adj. R-squared:                  0.486\n",
      "Method:                 Least Squares   F-statistic:                     95.18\n",
      "Date:                Wed, 15 May 2019   Prob (F-statistic):           3.80e-43\n",
      "Time:                        15:10:27   Log-Likelihood:                -2154.8\n",
      "No. Observations:                 300   AIC:                             4318.\n",
      "Df Residuals:                     296   BIC:                             4333.\n",
      "Df Model:                           3                                         \n",
      "Covariance Type:            nonrobust                                         \n",
      "=================================================================================\n",
      "                    coef    std err          t      P>|t|      [0.025      0.975]\n",
      "---------------------------------------------------------------------------------\n",
      "Intercept      7877.4931    241.417     32.630      0.000    7402.382    8352.604\n",
      "kd_ratio        716.4235     50.273     14.251      0.000     617.485     815.362\n",
      "p_headshotacc    -2.7422      3.020     -0.908      0.365      -8.685       3.200\n",
      "p_currentmmr      0.1868      0.038      4.973      0.000       0.113       0.261\n",
      "==============================================================================\n",
      "Omnibus:                       75.303   Durbin-Watson:                   2.042\n",
      "Prob(Omnibus):                  0.000   Jarque-Bera (JB):              248.239\n",
      "Skew:                           1.071   Prob(JB):                     1.25e-54\n",
      "Kurtosis:                       6.908   Cond. No.                     7.24e+04\n",
      "==============================================================================\n",
      "\n",
      "Warnings:\n",
      "[1] Standard Errors assume that the covariance matrix of the errors is correctly specified.\n",
      "[2] The condition number is large, 7.24e+04. This might indicate that there are\n",
      "strong multicollinearity or other numerical problems.\n"
     ]
    }
   ],
   "source": [
    "# Now for the main model: Multiple OLS Regression with all 3 variables of interest on p_skillrating\n",
    "\n",
    "query = \"\"\"SELECT kd_ratio, p_headshotacc, p_currentmmr, p_skillrating FROM r6_leaderboard_database.focus\"\"\"\n",
    "df = pd.read_sql(query, con=engine)\n",
    "\n",
    "result = sm.ols(formula=\"p_skillrating ~ kd_ratio + p_headshotacc + p_currentmmr\", data=df).fit()\n",
    "\n",
    "print(result.summary())"
   ]
  },
  {
   "cell_type": "markdown",
   "metadata": {},
   "source": [
    "## Conclusion of Results"
   ]
  },
  {
   "cell_type": "markdown",
   "metadata": {},
   "source": [
    "The final regression model proves my hypothesis to be true: kd_ratio (_β=14.25, p_<.001) is a stronger significant predictor of R6Tab's skillrating than Ubisoft's MMR (_β =4.97, p <.001), F_(3, 296) = 95.18, *p*<.001. Headshot accuracy turned out to not be a significant predictor. \n",
    "\n",
    "There are two points to discuss, as mentioned by the model summary's 'Warning' tags at the end of each analysis. First, the standard errors are extremely high across the models. I expected this would be the case because of how small my sample size is, but also because of what my data is really about. The reason __*p_currentmmr*__ has a low and agreeable standard error is because the variable is a calculation of many variables such as games won and player skill differentials. Headshot accuracy and k:d ratio are individual variables and thus contain a larger standard error. Those two variables are not enough to precisely predict skill rating.\n",
    "\n",
    "Second, multicollinearity might be present in my variables. Further analysis may reveal that there is high multicollinearity between kd_ratio and p_currentmmr"
   ]
  },
  {
   "cell_type": "markdown",
   "metadata": {},
   "source": [
    "## Discussion"
   ]
  },
  {
   "cell_type": "markdown",
   "metadata": {},
   "source": [
    "From one flawed system to the next. R6Tab's skill rating system may be considered an improvement over Ubisoft's for those that achieve a high amount of kills per death. However, individuals approach the game in a myriad of ways. I applaud R6Tab's attempt to improve an algorithm that attempts to capture a human condition. I personally would benefit from R6tab's system because I fall under the category of achieving a high K:D ratio. To improve R6Tab's formula, they would need to recalculate in a way such that k:d ratio does not have such a significant impact on skill rating, while also including more variables related to support playstyles (gadgets deployed, bombs defused, revives, etc). \n",
    "\n",
    "There is much more to tell from my analysis. I suggest for future study to first, pull a large sample size of Rainbow Six's playerbase. I acknowledge that my study had its limitations and biases by working with only the most extreme deviations of Ubisoft's MMR rankings (leaderboard data only). Second, I am a beginner data analyst, so I am aware that my methodology when approaching statistical analysis may have its errors. So to improve my regression models would require some ML methodology.\n",
    "\n",
    "\n",
    "I would appreciate any advice anyone has for me. Your feedback is very important to me. "
   ]
  },
  {
   "cell_type": "markdown",
   "metadata": {},
   "source": [
    "## References\n",
    "\n",
    "$^1$: https://rainbowsix.fandom.com/wiki/Ranked"
   ]
  }
 ],
 "metadata": {
  "kernelspec": {
   "display_name": "Python 3",
   "language": "python",
   "name": "python3"
  },
  "language_info": {
   "codemirror_mode": {
    "name": "ipython",
    "version": 3
   },
   "file_extension": ".py",
   "mimetype": "text/x-python",
   "name": "python",
   "nbconvert_exporter": "python",
   "pygments_lexer": "ipython3",
   "version": "3.7.3"
  },
  "toc": {
   "base_numbering": 1,
   "nav_menu": {},
   "number_sections": true,
   "sideBar": true,
   "skip_h1_title": false,
   "title_cell": "Table of Contents",
   "title_sidebar": "Contents",
   "toc_cell": false,
   "toc_position": {},
   "toc_section_display": true,
   "toc_window_display": true
  }
 },
 "nbformat": 4,
 "nbformat_minor": 2
}
